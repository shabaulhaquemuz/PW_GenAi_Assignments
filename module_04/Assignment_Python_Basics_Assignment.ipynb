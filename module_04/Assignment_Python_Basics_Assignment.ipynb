{
  "cells": [
    {
      "cell_type": "markdown",
      "source": [
        "Q.1 Explain the key features of Python that make it a popular choice for programming"
      ],
      "metadata": {
        "id": "9X22jnellJfl"
      }
    },
    {
      "cell_type": "markdown",
      "source": [
        "Python is a popular programming language because of several key features that make it versatile and user-friendly:\n",
        "\n",
        "- Simple and Easy to Learn: Python has a clean and readable syntax that resembles natural language, making it accessible even for beginners"
      ],
      "metadata": {
        "id": "L9nC3PSvlYjo"
      }
    },
    {
      "cell_type": "code",
      "source": [
        "a = 5\n",
        "b = 3\n",
        "sum = a + b\n",
        "print(\"Sum:\", sum)"
      ],
      "metadata": {
        "colab": {
          "base_uri": "https://localhost:8080/"
        },
        "id": "d6jV3UzSlopB",
        "outputId": "0b77d305-cceb-4f18-801e-f8c4a62d0e15"
      },
      "execution_count": 2,
      "outputs": [
        {
          "output_type": "stream",
          "name": "stdout",
          "text": [
            "Sum: 8\n"
          ]
        }
      ]
    },
    {
      "cell_type": "markdown",
      "source": [
        "- Interpreted Language: Python is executed line by line, allowing for easier debugging and quicker feedback during development"
      ],
      "metadata": {
        "id": "PvQs0oNBmR8P"
      }
    },
    {
      "cell_type": "markdown",
      "source": [
        "- High-Level Language: Python abstracts many details of computer hardware, allowing you to focus on programming logic rather than managing memory or system architecture."
      ],
      "metadata": {
        "id": "aFPB3AlRmjpK"
      }
    },
    {
      "cell_type": "markdown",
      "source": [
        "- Extensive Libraries and Frameworks: Python has a vast collection of libraries (e.g., NumPy, Pandas, TensorFlow) that provide pre-built functions for data analysis, machine learning, web development, etc."
      ],
      "metadata": {
        "id": "43pTifihmsjb"
      }
    },
    {
      "cell_type": "code",
      "source": [
        "import math\n",
        "\n",
        "radius = 4\n",
        "area = math.pi * radius ** 2\n",
        "print(\"Area of Circle:\", area)"
      ],
      "metadata": {
        "colab": {
          "base_uri": "https://localhost:8080/"
        },
        "id": "JbIscmeLnBRV",
        "outputId": "7a07671a-f0a4-4a21-b28b-eb7bbdb73a11"
      },
      "execution_count": 6,
      "outputs": [
        {
          "output_type": "stream",
          "name": "stdout",
          "text": [
            "Area of Circle: 50.26548245743669\n"
          ]
        }
      ]
    },
    {
      "cell_type": "markdown",
      "source": [
        "- Cross-Platform Compatibility: Python runs on multiple operating systems (Windows, macOS, Linux), enabling code portability across different platforms."
      ],
      "metadata": {
        "id": "JFlG591-n5xB"
      }
    },
    {
      "cell_type": "markdown",
      "source": [
        "- Community Support: Python has a large, active community of developers and extensive documentation, making it easy to find solutions and collaborate."
      ],
      "metadata": {
        "id": "yoVlX9oKoDws"
      }
    },
    {
      "cell_type": "markdown",
      "source": [
        "- Dynamic Typing: You don’t need to declare variable types explicitly, allowing for more flexibility in coding."
      ],
      "metadata": {
        "id": "kXon_HrXoGyY"
      }
    },
    {
      "cell_type": "markdown",
      "source": [
        "- Object-Oriented: Python supports object-oriented programming, making it easier to manage large projects by organizing code into reusable objects and classes.\n",
        "\n"
      ],
      "metadata": {
        "id": "iWvzvxivoXfQ"
      }
    },
    {
      "cell_type": "code",
      "source": [
        "class Animal:\n",
        "    def __init__(self, name):\n",
        "        self.name = name\n",
        "\n",
        "    def speak(self):\n",
        "        return f\"{self.name} makes a sound!\"\n",
        "\n",
        "# Creating an object of the class\n",
        "dog = Animal(\"Dog\")\n",
        "print(dog.speak())"
      ],
      "metadata": {
        "colab": {
          "base_uri": "https://localhost:8080/"
        },
        "id": "4kerzGsIoaHa",
        "outputId": "1c6521ec-d88f-4c33-efaf-1cb1353dff1c"
      },
      "execution_count": 7,
      "outputs": [
        {
          "output_type": "stream",
          "name": "stdout",
          "text": [
            "Dog makes a sound!\n"
          ]
        }
      ]
    },
    {
      "cell_type": "markdown",
      "source": [
        "Q.2 Describe the role of predefined keywords in Python and provide examples of how they are used in a program"
      ],
      "metadata": {
        "id": "KngH9JeGpDfT"
      }
    },
    {
      "cell_type": "markdown",
      "source": [
        "Predefined keywords in Python are reserved words that have specific meanings and cannot be used as variable names, function names, or identifiers. They help define the structure, flow, and functionality of Python programs. Python keywords include control structures, data types, and other constructs necessary for writing programs.\n",
        "\n",
        "- Roles of Predefined Keywords:\n",
        "1. Control Flow: Keywords like if, else, elif, for, while, break, continue manage the flow of the program.\n",
        "\n"
      ],
      "metadata": {
        "id": "LrjM39XUpqXA"
      }
    },
    {
      "cell_type": "code",
      "source": [
        "x = 10\n",
        "if x > 5:\n",
        "    print(\"x is greater than 5\")\n",
        "else:\n",
        "    print(\"x is less than or equal to 5\")"
      ],
      "metadata": {
        "colab": {
          "base_uri": "https://localhost:8080/"
        },
        "id": "ZKjIh6bgqUIc",
        "outputId": "926d3688-c25b-441d-b545-0b98deffbedc"
      },
      "execution_count": 8,
      "outputs": [
        {
          "output_type": "stream",
          "name": "stdout",
          "text": [
            "x is greater than 5\n"
          ]
        }
      ]
    },
    {
      "cell_type": "markdown",
      "source": [
        "2. Data Types: Keywords like True, False, None define data types or special values."
      ],
      "metadata": {
        "id": "rUVGFDleq_gk"
      }
    },
    {
      "cell_type": "markdown",
      "source": [
        "3. Functions and Classes: Keywords like def, return, class define functions and classes."
      ],
      "metadata": {
        "id": "0e-RFB16rCNB"
      }
    },
    {
      "cell_type": "code",
      "source": [
        "def add_numbers(a, b):\n",
        "    return a + b"
      ],
      "metadata": {
        "id": "gHtoUHFDrGuN"
      },
      "execution_count": 9,
      "outputs": []
    },
    {
      "cell_type": "markdown",
      "source": [
        "4. Exception Handling: Keywords like try, except, finally, raise handle errors and exceptions."
      ],
      "metadata": {
        "id": "mMxUhUVZrSmk"
      }
    },
    {
      "cell_type": "code",
      "source": [
        "try:\n",
        "    result = 10 / 0\n",
        "except ZeroDivisionError:\n",
        "    print(\"Cannot divide by zero\")"
      ],
      "metadata": {
        "colab": {
          "base_uri": "https://localhost:8080/"
        },
        "id": "kLOse7vGrcQT",
        "outputId": "c62843c3-f510-4a36-e18b-82ebf11947ff"
      },
      "execution_count": 10,
      "outputs": [
        {
          "output_type": "stream",
          "name": "stdout",
          "text": [
            "Cannot divide by zero\n"
          ]
        }
      ]
    },
    {
      "cell_type": "markdown",
      "source": [
        "5. Logical Operations: Keywords like and, or, not are used for logical conditions."
      ],
      "metadata": {
        "id": "eTO745K_rgp3"
      }
    },
    {
      "cell_type": "code",
      "source": [
        "is_valid = True\n",
        "is_admin = False\n",
        "\n",
        "if is_valid and not is_admin:\n",
        "    print(\"Access granted\")\n",
        "else:\n",
        "    print(\"Access denied\")"
      ],
      "metadata": {
        "colab": {
          "base_uri": "https://localhost:8080/"
        },
        "id": "ZlxGRrp-rpQX",
        "outputId": "1f9daf6f-173b-43e3-e570-6139546fdb0d"
      },
      "execution_count": 11,
      "outputs": [
        {
          "output_type": "stream",
          "name": "stdout",
          "text": [
            "Access granted\n"
          ]
        }
      ]
    },
    {
      "cell_type": "markdown",
      "source": [
        "6. Variable Declarations: Keywords like global, nonlocal handle variable scopes."
      ],
      "metadata": {
        "id": "_UGqhQsEr7xO"
      }
    },
    {
      "cell_type": "code",
      "source": [
        "#Using global keywords\n",
        "x = 10  # Global variable\n",
        "\n",
        "def modify_global():\n",
        "    global x\n",
        "    x = x + 5\n",
        "\n",
        "modify_global()\n",
        "print(\"Modified global x:\", x)\n",
        "\n",
        "#Using non-local keyboard\n",
        "def outer_function():\n",
        "    y = 5\n",
        "\n",
        "    def inner_function():\n",
        "        nonlocal y\n",
        "        y = y + 3\n",
        "\n",
        "    inner_function()\n",
        "    print(\"Modified nonlocal y:\", y)\n",
        "\n",
        "outer_function()\n"
      ],
      "metadata": {
        "colab": {
          "base_uri": "https://localhost:8080/"
        },
        "id": "mKBwCh5ysAZv",
        "outputId": "0a7e8d0b-54f8-45e8-b288-6d7283f9f90e"
      },
      "execution_count": 14,
      "outputs": [
        {
          "output_type": "stream",
          "name": "stdout",
          "text": [
            "Modified global x: 15\n",
            "Modified nonlocal y: 8\n"
          ]
        }
      ]
    },
    {
      "cell_type": "markdown",
      "source": [
        "Q.3 Compare and contrast mutable and immutable objects in Python with examples"
      ],
      "metadata": {
        "id": "WPyB6cSfuhBP"
      }
    },
    {
      "cell_type": "markdown",
      "source": [
        "1. Mutable Objects\n",
        "Mutable objects can have their values modified after creation. Common examples of mutable objects include:\n",
        "\n",
        "Lists\n",
        "Dictionaries\n",
        "Sets\n",
        "\n",
        "2. Immutable Objects\n",
        "Immutable objects cannot be modified after they are created. Any attempt to change them results in the creation of a new object. Common examples of immutable objects include:\n",
        "\n",
        "Strings\n",
        "Tuples\n",
        "Integers\n",
        "Floats\n",
        "\n",
        "Key Differences:\n",
        "\n",
        "- Mutable Objects: Can be modified after creation (e.g., List, Dictionary, Set). They maintain the same object in memory, and modifying them in-place is faster.\n",
        "\n",
        "- Immutable Objects: Cannot be changed after creation (e.g., String, Tuple, Integer, Float). A new object is created upon change, and this can be slower than in-place modifications."
      ],
      "metadata": {
        "id": "q8v-i7cZuqaG"
      }
    },
    {
      "cell_type": "code",
      "source": [
        "# Mutable (List)\n",
        "my_list = [1, 2, 3]\n",
        "my_list[1] = 20\n",
        "print(\"Mutable List:\", my_list)\n",
        "\n",
        "# Immutable (Tuple)\n",
        "my_tuple = (1, 2, 3)\n",
        "print(\"Immutable Tuple:\", my_tuple)\n",
        "# my_tuple[1] = 20  => ERROR\n"
      ],
      "metadata": {
        "colab": {
          "base_uri": "https://localhost:8080/"
        },
        "id": "f2Ozn66pvukB",
        "outputId": "8b97556e-813a-4e56-9820-7c2894458479"
      },
      "execution_count": 17,
      "outputs": [
        {
          "output_type": "stream",
          "name": "stdout",
          "text": [
            "Mutable List: [1, 20, 3]\n",
            "Immutable Tuple: (1, 2, 3)\n"
          ]
        }
      ]
    },
    {
      "cell_type": "markdown",
      "source": [
        "Q.4  Discuss the different types of operators in Python and povide examples of how they are used."
      ],
      "metadata": {
        "id": "QmNm62e6zyI7"
      }
    },
    {
      "cell_type": "markdown",
      "source": [
        "In Python, operators are symbols that perform operations on variables and values. Python supports various types of operators:\n",
        "\n",
        "1. Arithmetic Operators:\n",
        "These operators perform mathematical operations.\n",
        "\n",
        "- Addition (+): Adds two numbers.\n",
        "\n",
        "- Subtraction (-): Subtracts the right operand from the left operand.\n",
        "\n",
        "- Multiplication (*): Multiplies two numbers.\n",
        "\n",
        "- Division (/): Divides the left operand by the right operand.\n",
        "\n",
        "- Modulus (%): Returns the remainder when the left operand is divided by the right operand.\n",
        "\n",
        "- Exponentiation (**): Raises the left operand to the power of the right operand.\n",
        "\n",
        "- Floor Division (//): Returns the quotient when the left operand is divided by the right operand, removing any fractional part."
      ],
      "metadata": {
        "id": "Oem146yA0m9B"
      }
    },
    {
      "cell_type": "code",
      "source": [
        "a = 10\n",
        "b = 3\n",
        "\n",
        "print(a + b)   # 13\n",
        "print(a - b)   # 7\n",
        "print(a * b)   # 30\n",
        "print(a / b)   # 3.3333\n",
        "print(a % b)   # 1\n",
        "print(a ** b)  # 1000 (10 raised to the power of 3)\n",
        "print(a // b)  # 3\n"
      ],
      "metadata": {
        "id": "6XVMLgHa010n",
        "outputId": "0d378bed-c102-4f22-c8c9-43324c129b88",
        "colab": {
          "base_uri": "https://localhost:8080/"
        }
      },
      "execution_count": 18,
      "outputs": [
        {
          "output_type": "stream",
          "name": "stdout",
          "text": [
            "13\n",
            "7\n",
            "30\n",
            "3.3333333333333335\n",
            "1\n",
            "1000\n",
            "3\n"
          ]
        }
      ]
    },
    {
      "cell_type": "markdown",
      "source": [
        "2. Comparison Operators:\n",
        "These operators compare two values and return True or False.\n",
        "\n",
        "- Equal to (==)\n",
        "\n",
        "- Not equal to (!=)\n",
        "\n",
        "- Greater than (>)\n",
        "\n",
        "- Less than (<)\n",
        "\n",
        "- Greater than or equal to (>=)\n",
        "\n",
        "- Less than or equal to (<=)"
      ],
      "metadata": {
        "id": "tb0LWMBt1MYK"
      }
    },
    {
      "cell_type": "code",
      "source": [
        "a = 5\n",
        "b = 8\n",
        "\n",
        "print(a == b)  # False\n",
        "print(a != b)  # True\n",
        "print(a > b)   # False\n",
        "print(a < b)   # True\n",
        "print(a >= 5)  # True\n",
        "print(a <= 5)  # True\n"
      ],
      "metadata": {
        "id": "0c6-27o41X6Q",
        "outputId": "58569b1e-c884-45ae-f574-bdf76bdc2123",
        "colab": {
          "base_uri": "https://localhost:8080/"
        }
      },
      "execution_count": 19,
      "outputs": [
        {
          "output_type": "stream",
          "name": "stdout",
          "text": [
            "False\n",
            "True\n",
            "False\n",
            "True\n",
            "True\n",
            "True\n"
          ]
        }
      ]
    },
    {
      "cell_type": "markdown",
      "source": [
        "3. Assignment Operators:\n",
        "These operators assign values to variables.\n",
        "\n",
        "- Assignment (=)\n",
        "\n",
        "- Add and assign (+=)\n",
        "\n",
        "- Subtract and assign (-=)\n",
        "\n",
        "- Multiply and assign (*=)\n",
        "\n",
        "- Divide and assign (/=)\n",
        "\n",
        "- Modulus and assign (%=)"
      ],
      "metadata": {
        "id": "Pk96RLcy1bz_"
      }
    },
    {
      "cell_type": "code",
      "source": [
        "x = 10\n",
        "x += 5\n",
        "print(x)\n",
        "\n",
        "x *= 2\n",
        "print(x)\n"
      ],
      "metadata": {
        "id": "slYi1Y6U1n4c",
        "outputId": "ee7e6d7a-1bff-4ecd-f2a0-3d8747d67136",
        "colab": {
          "base_uri": "https://localhost:8080/"
        }
      },
      "execution_count": 21,
      "outputs": [
        {
          "output_type": "stream",
          "name": "stdout",
          "text": [
            "15\n",
            "30\n"
          ]
        }
      ]
    },
    {
      "cell_type": "markdown",
      "source": [
        "4. Logical Operators:\n",
        "These operators are used to combine conditional statements.\n",
        "\n",
        "- AND (and): True if both operands are true.\n",
        "\n",
        "- OR (or): True if at least one operand is true.\n",
        "\n",
        "- NOT (not): Reverses the logical state of its operand."
      ],
      "metadata": {
        "id": "AvWh7tB827cH"
      }
    },
    {
      "cell_type": "code",
      "source": [
        "a = True\n",
        "b = False\n",
        "\n",
        "print(a and b)\n",
        "print(a or b)\n",
        "print(not a)\n"
      ],
      "metadata": {
        "id": "xIVtBnGG3Kwn",
        "outputId": "6ca57d75-b9d1-4146-a090-38426fdaf303",
        "colab": {
          "base_uri": "https://localhost:8080/"
        }
      },
      "execution_count": 22,
      "outputs": [
        {
          "output_type": "stream",
          "name": "stdout",
          "text": [
            "False\n",
            "True\n",
            "False\n"
          ]
        }
      ]
    },
    {
      "cell_type": "markdown",
      "source": [
        "5. Bitwise Operators:\n",
        "These operators work on bits and perform bit-by-bit operations.\n",
        "\n",
        "- AND (&)\n",
        "- OR (|)\n",
        "- XOR (^)\n",
        "- NOT (~)\n",
        "- Left shift (<<)\n",
        "- Right shift (>>)"
      ],
      "metadata": {
        "id": "h4sJ53hH3QLb"
      }
    },
    {
      "cell_type": "code",
      "source": [
        "a = 10  # Binary: 1010\n",
        "b = 4   # Binary: 0100\n",
        "\n",
        "print(a & b)   # 0 (Binary: 0000)\n",
        "print(a | b)   # 14 (Binary: 1110)\n",
        "print(a ^ b)   # 14 (Binary: 1110)\n",
        "print(~a)      # -11 (Binary: ...11110101)\n",
        "print(a << 2)  # 40 (Binary: 101000)\n",
        "print(a >> 2)  # 2  (Binary: 0010)\n"
      ],
      "metadata": {
        "id": "hNUwAOI93kMh"
      },
      "execution_count": null,
      "outputs": []
    },
    {
      "cell_type": "markdown",
      "source": [
        "6. Membership Operators:\n",
        "These operators check if a value is a member of a sequence (like a list, tuple, or string).\n",
        "\n",
        "- in: True if a value is found in the sequence.\n",
        "- not in: True if a value is not found in the sequence."
      ],
      "metadata": {
        "id": "i9MWhJNp3xgt"
      }
    },
    {
      "cell_type": "code",
      "source": [
        "fruits = [\"apple\", \"banana\", \"cherry\"]\n",
        "\n",
        "print(\"banana\" in fruits)      # True\n",
        "print(\"grape\" not in fruits)   # True\n"
      ],
      "metadata": {
        "id": "Df9XhlJY3725",
        "outputId": "b765d1bc-0950-473e-fd20-af5c122ba137",
        "colab": {
          "base_uri": "https://localhost:8080/"
        }
      },
      "execution_count": 23,
      "outputs": [
        {
          "output_type": "stream",
          "name": "stdout",
          "text": [
            "True\n",
            "True\n"
          ]
        }
      ]
    },
    {
      "cell_type": "markdown",
      "source": [
        "7. Identity Operators:\n",
        "These operators check if two objects are the same object (not just equal but identical in memory).\n",
        "\n",
        "- is: True if both variables point to the same object.\n",
        "- is not: True if they do not point to the same object."
      ],
      "metadata": {
        "id": "WKSNBR6V4Alr"
      }
    },
    {
      "cell_type": "code",
      "source": [
        "a = [1, 2, 3]\n",
        "b = [1, 2, 3]\n",
        "c = a\n",
        "\n",
        "print(a is b)   # False (different objects)\n",
        "print(a is c)   # True (same object)\n",
        "print(a is not b) # True\n"
      ],
      "metadata": {
        "id": "9CN7Wn6t4M2y",
        "outputId": "5866a0a0-a113-46ac-d666-78e73c888dc1",
        "colab": {
          "base_uri": "https://localhost:8080/"
        }
      },
      "execution_count": 24,
      "outputs": [
        {
          "output_type": "stream",
          "name": "stdout",
          "text": [
            "False\n",
            "True\n",
            "True\n"
          ]
        }
      ]
    },
    {
      "cell_type": "markdown",
      "source": [
        "Q.5 Explain the concept of type casting in Python with examples."
      ],
      "metadata": {
        "id": "UVpyIHn24ZC3"
      }
    },
    {
      "cell_type": "markdown",
      "source": [
        "Type casting refers to converting one data type into another. Python provides built-in functions to convert data types explicitly, which is useful when performing operations that require a specific type.\n",
        "\n",
        "Types of Type Casting:\n",
        "1. Implicit Type Casting:\n",
        "Done automatically by Python.\n",
        "Python converts smaller data types into larger data types (e.g., int to float) during operations.\n",
        "\n",
        "\n"
      ],
      "metadata": {
        "id": "Ra6VkpIm5Hjx"
      }
    },
    {
      "cell_type": "code",
      "source": [
        "# Implicit conversion from int to float\n",
        "a = 5    # int\n",
        "b = 2.5  # float\n",
        "\n",
        "result = a + b\n",
        "print(result)  # Output: 7.5 (float)\n",
        "print(type(result))  # Output: <class 'float'>\n"
      ],
      "metadata": {
        "id": "hxOcS5hs5d9X",
        "outputId": "8fd24571-36f4-4a8d-be7c-6c96df119715",
        "colab": {
          "base_uri": "https://localhost:8080/"
        }
      },
      "execution_count": 25,
      "outputs": [
        {
          "output_type": "stream",
          "name": "stdout",
          "text": [
            "7.5\n",
            "<class 'float'>\n"
          ]
        }
      ]
    },
    {
      "cell_type": "markdown",
      "source": [
        "2. Explicit Type Casting: Requires using predefined functions to convert types manually.Common functions: int(), float(), str(), list(), tuple(), etc."
      ],
      "metadata": {
        "id": "zPqZjoxx5rTm"
      }
    },
    {
      "cell_type": "markdown",
      "source": [
        "- Converting to Integer (int()): Converts a value to an integer, removing the decimal part if it's a float."
      ],
      "metadata": {
        "id": "TgeydDb46JvJ"
      }
    },
    {
      "cell_type": "markdown",
      "source": [],
      "metadata": {
        "id": "mjdcVJb57ib_"
      }
    },
    {
      "cell_type": "code",
      "source": [
        "x = 7.8\n",
        "y = int(x)  # Output: 7\n",
        "print(y)  # Output: 7\n"
      ],
      "metadata": {
        "id": "muhrbBNi6O-G",
        "outputId": "b8ecde8b-45fb-4fb6-eb14-3240024e00bf",
        "colab": {
          "base_uri": "https://localhost:8080/"
        }
      },
      "execution_count": 26,
      "outputs": [
        {
          "output_type": "stream",
          "name": "stdout",
          "text": [
            "7\n"
          ]
        }
      ]
    },
    {
      "cell_type": "markdown",
      "source": [
        "- Converting to Float (float()):\n",
        "Converts an integer or a string to a float.\n"
      ],
      "metadata": {
        "id": "QDGvmgK66d3A"
      }
    },
    {
      "cell_type": "code",
      "source": [
        "x = 10\n",
        "y = float(x)  # Output: 10.0\n",
        "print(y)  # Output: 10.0\n"
      ],
      "metadata": {
        "id": "zmQ-NVB26nYp",
        "outputId": "138fbf79-4952-44a5-8956-672be92f8a1a",
        "colab": {
          "base_uri": "https://localhost:8080/"
        }
      },
      "execution_count": 28,
      "outputs": [
        {
          "output_type": "stream",
          "name": "stdout",
          "text": [
            "10.0\n"
          ]
        }
      ]
    },
    {
      "cell_type": "markdown",
      "source": [
        "Converting to String (str()):\n",
        "Converts a number or other data types to a string."
      ],
      "metadata": {
        "id": "ojVQBXjW7qNb"
      }
    },
    {
      "cell_type": "code",
      "source": [
        "x = 123\n",
        "y = str(x)  # Output: \"123\"\n",
        "print(y)  # Output: \"123\"\n"
      ],
      "metadata": {
        "id": "jFB39neY7w0j",
        "outputId": "47fe1557-9e18-4df8-e180-b415890e3a15",
        "colab": {
          "base_uri": "https://localhost:8080/"
        }
      },
      "execution_count": 29,
      "outputs": [
        {
          "output_type": "stream",
          "name": "stdout",
          "text": [
            "123\n"
          ]
        }
      ]
    },
    {
      "cell_type": "markdown",
      "source": [
        "- Converting to List (list()): Converts an iterable (like a string or tuple) into a list."
      ],
      "metadata": {
        "id": "envTSDPl75TX"
      }
    },
    {
      "cell_type": "code",
      "source": [
        "x = \"hello\"\n",
        "y = list(x)\n",
        "print(y)\n"
      ],
      "metadata": {
        "id": "kFuJH7x38Blv",
        "outputId": "5695054c-4a2f-4597-9271-331904914870",
        "colab": {
          "base_uri": "https://localhost:8080/"
        }
      },
      "execution_count": 30,
      "outputs": [
        {
          "output_type": "stream",
          "name": "stdout",
          "text": [
            "['h', 'e', 'l', 'l', 'o']\n"
          ]
        }
      ]
    },
    {
      "cell_type": "markdown",
      "source": [
        "Q.6 How do conditional statements work in Python? Illustrate with examples."
      ],
      "metadata": {
        "id": "pUKcbgvy8gKZ"
      }
    },
    {
      "cell_type": "markdown",
      "source": [
        "Conditional statements allow you to execute specific blocks of code based on whether certain conditions are true or false. They are used to make decisions in a program.\n",
        "\n",
        "- Types of Conditional Statements:\n",
        "1. if Statement: Executes a block of code if a specified condition is true"
      ],
      "metadata": {
        "id": "B6w4vuFN8wpa"
      }
    },
    {
      "cell_type": "code",
      "source": [
        "age = 18\n",
        "if age >= 18:\n",
        "    print(\"You are eligible to vote.\")  # Output: You are eligible to vote.\n"
      ],
      "metadata": {
        "id": "Shi-LBi_83rj",
        "outputId": "f0b41a78-3fc1-432a-90fd-aaf8b020614b",
        "colab": {
          "base_uri": "https://localhost:8080/"
        }
      },
      "execution_count": 31,
      "outputs": [
        {
          "output_type": "stream",
          "name": "stdout",
          "text": [
            "You are eligible to vote.\n"
          ]
        }
      ]
    },
    {
      "cell_type": "markdown",
      "source": [
        "2. if-else Statement: Executes one block of code if the condition is true, and another block if it is false."
      ],
      "metadata": {
        "id": "dSfub4og9BOy"
      }
    },
    {
      "cell_type": "code",
      "source": [
        "age = 16\n",
        "if age >= 18:\n",
        "    print(\"You are eligible to vote.\")\n",
        "else:\n",
        "    print(\"You are not eligible to vote.\")  # Output: You are not eligible to vote.\n"
      ],
      "metadata": {
        "id": "8GcpID5n9EVm",
        "outputId": "d952f4d6-9a9a-431b-cb1a-3bd7a3d18700",
        "colab": {
          "base_uri": "https://localhost:8080/"
        }
      },
      "execution_count": 32,
      "outputs": [
        {
          "output_type": "stream",
          "name": "stdout",
          "text": [
            "You are not eligible to vote.\n"
          ]
        }
      ]
    },
    {
      "cell_type": "markdown",
      "source": [
        "3. if-elif-else Statement: Checks multiple conditions in sequence and executes the corresponding block when a condition is true."
      ],
      "metadata": {
        "id": "xAYsNtUj9Icj"
      }
    },
    {
      "cell_type": "code",
      "source": [
        "marks = 75\n",
        "\n",
        "if marks >= 90:\n",
        "    print(\"Grade: A\")\n",
        "elif marks >= 75:\n",
        "    print(\"Grade: B\")  # Output: Grade: B\n",
        "elif marks >= 50:\n",
        "    print(\"Grade: C\")\n",
        "else:\n",
        "    print(\"Grade: D\")\n"
      ],
      "metadata": {
        "id": "iH2zqBrN9Qzo",
        "outputId": "12502233-7262-41fe-8b33-8a6cd1def725",
        "colab": {
          "base_uri": "https://localhost:8080/"
        }
      },
      "execution_count": 33,
      "outputs": [
        {
          "output_type": "stream",
          "name": "stdout",
          "text": [
            "Grade: B\n"
          ]
        }
      ]
    },
    {
      "cell_type": "markdown",
      "source": [
        "4. Nested if Statements: An if statement inside another if to check multiple layers of conditions."
      ],
      "metadata": {
        "id": "qoAxLrEq9WvV"
      }
    },
    {
      "cell_type": "code",
      "source": [
        "age = 20\n",
        "country = \"India\"\n",
        "\n",
        "if age >= 18:\n",
        "    if country == \"India\":\n",
        "        print(\"You are eligible to vote in India.\")  # Output: You are eligible to vote in India.\n",
        "    else:\n",
        "        print(\"You are not eligible to vote in India.\")\n",
        "else:\n",
        "    print(\"You are not eligible to vote.\")\n"
      ],
      "metadata": {
        "id": "pcXBMsqS9bgR",
        "outputId": "1ce3f7d9-a277-41cb-9e4d-e3f0aa816049",
        "colab": {
          "base_uri": "https://localhost:8080/"
        }
      },
      "execution_count": 34,
      "outputs": [
        {
          "output_type": "stream",
          "name": "stdout",
          "text": [
            "You are eligible to vote in India.\n"
          ]
        }
      ]
    },
    {
      "cell_type": "markdown",
      "source": [
        "Q.7 Describe the different types of loops in Python and their use cases with examples."
      ],
      "metadata": {
        "id": "jPP__gzG-Yh8"
      }
    },
    {
      "cell_type": "markdown",
      "source": [
        "Python provides two types of loops:\n",
        "1. While Loop:\n",
        "A while loop repeatedly executes a block of code as long as the given condition remains True. It is generally used when the number of iterations is unknown and depends on a condition."
      ],
      "metadata": {
        "id": "z-CYkA8x-fna"
      }
    },
    {
      "cell_type": "code",
      "source": [
        "i = 1\n",
        "while i <= 5:\n",
        "    print(i)  # Output: 1 2 3 4 5\n",
        "    i += 1\n"
      ],
      "metadata": {
        "id": "hdBnNrWj-2NE",
        "outputId": "bb4d5e1b-cbf7-4b62-a169-1d91e42a7898",
        "colab": {
          "base_uri": "https://localhost:8080/"
        }
      },
      "execution_count": 35,
      "outputs": [
        {
          "output_type": "stream",
          "name": "stdout",
          "text": [
            "1\n",
            "2\n",
            "3\n",
            "4\n",
            "5\n"
          ]
        }
      ]
    },
    {
      "cell_type": "markdown",
      "source": [
        "- Use Case:\n",
        "Repeating an action until a condition is met. For example, a program might keep asking for a password until the correct one is entered."
      ],
      "metadata": {
        "id": "lHbqPWwD-7rD"
      }
    },
    {
      "cell_type": "markdown",
      "source": [
        "2. For Loop:\n",
        "A for loop is used to iterate over a sequence (like a list, tuple, string, or range) and executes a block of code for each element. It is generally used when the number of iterations is known or when iterating through a collection."
      ],
      "metadata": {
        "id": "Gd9V5VJV_CuG"
      }
    },
    {
      "cell_type": "code",
      "source": [
        "fruits = [\"apple\", \"banana\", \"cherry\"]\n",
        "for fruit in fruits:\n",
        "    print(fruit)  # Output: apple banana cherry\n"
      ],
      "metadata": {
        "id": "KENJMeeY_PBa",
        "outputId": "d9b594dd-930c-48f9-a2ea-28bf70c8937e",
        "colab": {
          "base_uri": "https://localhost:8080/"
        }
      },
      "execution_count": 36,
      "outputs": [
        {
          "output_type": "stream",
          "name": "stdout",
          "text": [
            "apple\n",
            "banana\n",
            "cherry\n"
          ]
        }
      ]
    },
    {
      "cell_type": "markdown",
      "source": [
        "- Use Case:\n",
        "Iterating through a sequence (like a list, tuple, or string) to perform actions on each element, such as printing or modifying values."
      ],
      "metadata": {
        "id": "P0rdcCGG_R2n"
      }
    },
    {
      "cell_type": "markdown",
      "source": [
        "a. Looping with range():\n",
        "The range() function generates a sequence of numbers, commonly used with for loops."
      ],
      "metadata": {
        "id": "d-E91MBN_tsm"
      }
    },
    {
      "cell_type": "code",
      "source": [
        "for i in range(1, 6):\n",
        "    print(i)  # Output: 1 2 3 4 5\n"
      ],
      "metadata": {
        "id": "qrUn66Mi_0s9",
        "outputId": "68665298-454d-4874-ee42-6e8b0871f51b",
        "colab": {
          "base_uri": "https://localhost:8080/"
        }
      },
      "execution_count": 37,
      "outputs": [
        {
          "output_type": "stream",
          "name": "stdout",
          "text": [
            "1\n",
            "2\n",
            "3\n",
            "4\n",
            "5\n"
          ]
        }
      ]
    },
    {
      "cell_type": "markdown",
      "source": [
        "b. Nested Loops:\n",
        "A loop inside another loop is called a nested loop. It is used when you need to iterate over a combination of multiple sequences."
      ],
      "metadata": {
        "id": "uu3Jo1BcALlm"
      }
    },
    {
      "cell_type": "code",
      "source": [
        "for i in range(1, 4):\n",
        "    for j in range(1, 3):\n",
        "        print(f\"i = {i}, j = {j}\")\n"
      ],
      "metadata": {
        "id": "HWzcrkd2APpv",
        "outputId": "9a513974-97e1-4d63-b1c8-30c797fb5bb3",
        "colab": {
          "base_uri": "https://localhost:8080/"
        }
      },
      "execution_count": 38,
      "outputs": [
        {
          "output_type": "stream",
          "name": "stdout",
          "text": [
            "i = 1, j = 1\n",
            "i = 1, j = 2\n",
            "i = 2, j = 1\n",
            "i = 2, j = 2\n",
            "i = 3, j = 1\n",
            "i = 3, j = 2\n"
          ]
        }
      ]
    },
    {
      "cell_type": "markdown",
      "source": [
        "Common Use Cases for Loops:\n",
        "- while Loop: Useful when the number of iterations isn't fixed, such as waiting for a condition to change.\n",
        "- for Loop: Ideal for iterating over sequences like lists, strings, or ranges where the number of iterations is known."
      ],
      "metadata": {
        "id": "tPHocU6SAZEj"
      }
    }
  ],
  "metadata": {
    "colab": {
      "name": "Welcome to Colaboratory",
      "toc_visible": true,
      "provenance": []
    },
    "kernelspec": {
      "display_name": "Python 3",
      "name": "python3"
    }
  },
  "nbformat": 4,
  "nbformat_minor": 0
}