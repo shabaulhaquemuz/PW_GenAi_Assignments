{
  "cells": [
    {
      "cell_type": "markdown",
      "source": [
        "Q.1 Explain the key features of Python that make it a popular choice for programming"
      ],
      "metadata": {
        "id": "9X22jnellJfl"
      }
    },
    {
      "cell_type": "markdown",
      "source": [
        "Python is a popular programming language because of several key features that make it versatile and user-friendly:\n",
        "\n",
        "- Simple and Easy to Learn: Python has a clean and readable syntax that resembles natural language, making it accessible even for beginners"
      ],
      "metadata": {
        "id": "L9nC3PSvlYjo"
      }
    },
    {
      "cell_type": "code",
      "source": [
        "a = 5\n",
        "b = 3\n",
        "sum = a + b\n",
        "print(\"Sum:\", sum)"
      ],
      "metadata": {
        "id": "d6jV3UzSlopB",
        "outputId": "0b77d305-cceb-4f18-801e-f8c4a62d0e15",
        "colab": {
          "base_uri": "https://localhost:8080/"
        }
      },
      "execution_count": 2,
      "outputs": [
        {
          "output_type": "stream",
          "name": "stdout",
          "text": [
            "Sum: 8\n"
          ]
        }
      ]
    },
    {
      "cell_type": "markdown",
      "source": [
        "- Interpreted Language: Python is executed line by line, allowing for easier debugging and quicker feedback during development"
      ],
      "metadata": {
        "id": "PvQs0oNBmR8P"
      }
    },
    {
      "cell_type": "markdown",
      "source": [
        "- High-Level Language: Python abstracts many details of computer hardware, allowing you to focus on programming logic rather than managing memory or system architecture."
      ],
      "metadata": {
        "id": "aFPB3AlRmjpK"
      }
    },
    {
      "cell_type": "markdown",
      "source": [
        "- Extensive Libraries and Frameworks: Python has a vast collection of libraries (e.g., NumPy, Pandas, TensorFlow) that provide pre-built functions for data analysis, machine learning, web development, etc."
      ],
      "metadata": {
        "id": "43pTifihmsjb"
      }
    },
    {
      "cell_type": "code",
      "source": [
        "import math\n",
        "\n",
        "radius = 4\n",
        "area = math.pi * radius ** 2\n",
        "print(\"Area of Circle:\", area)"
      ],
      "metadata": {
        "id": "JbIscmeLnBRV",
        "outputId": "7a07671a-f0a4-4a21-b28b-eb7bbdb73a11",
        "colab": {
          "base_uri": "https://localhost:8080/"
        }
      },
      "execution_count": 6,
      "outputs": [
        {
          "output_type": "stream",
          "name": "stdout",
          "text": [
            "Area of Circle: 50.26548245743669\n"
          ]
        }
      ]
    },
    {
      "cell_type": "markdown",
      "source": [
        "- Cross-Platform Compatibility: Python runs on multiple operating systems (Windows, macOS, Linux), enabling code portability across different platforms."
      ],
      "metadata": {
        "id": "JFlG591-n5xB"
      }
    },
    {
      "cell_type": "markdown",
      "source": [
        "- Community Support: Python has a large, active community of developers and extensive documentation, making it easy to find solutions and collaborate."
      ],
      "metadata": {
        "id": "yoVlX9oKoDws"
      }
    },
    {
      "cell_type": "markdown",
      "source": [
        "- Dynamic Typing: You don’t need to declare variable types explicitly, allowing for more flexibility in coding."
      ],
      "metadata": {
        "id": "kXon_HrXoGyY"
      }
    },
    {
      "cell_type": "markdown",
      "source": [
        "- Object-Oriented: Python supports object-oriented programming, making it easier to manage large projects by organizing code into reusable objects and classes.\n",
        "\n"
      ],
      "metadata": {
        "id": "iWvzvxivoXfQ"
      }
    },
    {
      "cell_type": "code",
      "source": [
        "class Animal:\n",
        "    def __init__(self, name):\n",
        "        self.name = name\n",
        "\n",
        "    def speak(self):\n",
        "        return f\"{self.name} makes a sound!\"\n",
        "\n",
        "# Creating an object of the class\n",
        "dog = Animal(\"Dog\")\n",
        "print(dog.speak())"
      ],
      "metadata": {
        "id": "4kerzGsIoaHa",
        "outputId": "1c6521ec-d88f-4c33-efaf-1cb1353dff1c",
        "colab": {
          "base_uri": "https://localhost:8080/"
        }
      },
      "execution_count": 7,
      "outputs": [
        {
          "output_type": "stream",
          "name": "stdout",
          "text": [
            "Dog makes a sound!\n"
          ]
        }
      ]
    },
    {
      "cell_type": "markdown",
      "source": [
        "Q.2 Describe the role of predefined keywords in Python and provide examples of how they are used in a program"
      ],
      "metadata": {
        "id": "KngH9JeGpDfT"
      }
    },
    {
      "cell_type": "markdown",
      "source": [
        "Predefined keywords in Python are reserved words that have specific meanings and cannot be used as variable names, function names, or identifiers. They help define the structure, flow, and functionality of Python programs. Python keywords include control structures, data types, and other constructs necessary for writing programs.\n",
        "\n",
        "- Roles of Predefined Keywords:\n",
        "1. Control Flow: Keywords like if, else, elif, for, while, break, continue manage the flow of the program.\n",
        "\n"
      ],
      "metadata": {
        "id": "LrjM39XUpqXA"
      }
    },
    {
      "cell_type": "code",
      "source": [
        "x = 10\n",
        "if x > 5:\n",
        "    print(\"x is greater than 5\")\n",
        "else:\n",
        "    print(\"x is less than or equal to 5\")"
      ],
      "metadata": {
        "id": "ZKjIh6bgqUIc",
        "outputId": "926d3688-c25b-441d-b545-0b98deffbedc",
        "colab": {
          "base_uri": "https://localhost:8080/"
        }
      },
      "execution_count": 8,
      "outputs": [
        {
          "output_type": "stream",
          "name": "stdout",
          "text": [
            "x is greater than 5\n"
          ]
        }
      ]
    },
    {
      "cell_type": "markdown",
      "source": [
        "2. Data Types: Keywords like True, False, None define data types or special values."
      ],
      "metadata": {
        "id": "rUVGFDleq_gk"
      }
    },
    {
      "cell_type": "markdown",
      "source": [
        "3. Functions and Classes: Keywords like def, return, class define functions and classes."
      ],
      "metadata": {
        "id": "0e-RFB16rCNB"
      }
    },
    {
      "cell_type": "code",
      "source": [
        "def add_numbers(a, b):\n",
        "    return a + b"
      ],
      "metadata": {
        "id": "gHtoUHFDrGuN"
      },
      "execution_count": 9,
      "outputs": []
    },
    {
      "cell_type": "markdown",
      "source": [
        "4. Exception Handling: Keywords like try, except, finally, raise handle errors and exceptions."
      ],
      "metadata": {
        "id": "mMxUhUVZrSmk"
      }
    },
    {
      "cell_type": "code",
      "source": [
        "try:\n",
        "    result = 10 / 0\n",
        "except ZeroDivisionError:\n",
        "    print(\"Cannot divide by zero\")"
      ],
      "metadata": {
        "id": "kLOse7vGrcQT",
        "outputId": "c62843c3-f510-4a36-e18b-82ebf11947ff",
        "colab": {
          "base_uri": "https://localhost:8080/"
        }
      },
      "execution_count": 10,
      "outputs": [
        {
          "output_type": "stream",
          "name": "stdout",
          "text": [
            "Cannot divide by zero\n"
          ]
        }
      ]
    },
    {
      "cell_type": "markdown",
      "source": [
        "5. Logical Operations: Keywords like and, or, not are used for logical conditions."
      ],
      "metadata": {
        "id": "eTO745K_rgp3"
      }
    },
    {
      "cell_type": "code",
      "source": [
        "is_valid = True\n",
        "is_admin = False\n",
        "\n",
        "if is_valid and not is_admin:\n",
        "    print(\"Access granted\")\n",
        "else:\n",
        "    print(\"Access denied\")"
      ],
      "metadata": {
        "id": "ZlxGRrp-rpQX",
        "outputId": "1f9daf6f-173b-43e3-e570-6139546fdb0d",
        "colab": {
          "base_uri": "https://localhost:8080/"
        }
      },
      "execution_count": 11,
      "outputs": [
        {
          "output_type": "stream",
          "name": "stdout",
          "text": [
            "Access granted\n"
          ]
        }
      ]
    },
    {
      "cell_type": "markdown",
      "source": [
        "6. Variable Declarations: Keywords like global, nonlocal handle variable scopes."
      ],
      "metadata": {
        "id": "_UGqhQsEr7xO"
      }
    },
    {
      "cell_type": "code",
      "source": [
        "#Using global keywords\n",
        "x = 10  # Global variable\n",
        "\n",
        "def modify_global():\n",
        "    global x\n",
        "    x = x + 5\n",
        "\n",
        "modify_global()\n",
        "print(\"Modified global x:\", x)\n",
        "\n",
        "#Using non-local keyboard\n",
        "def outer_function():\n",
        "    y = 5\n",
        "\n",
        "    def inner_function():\n",
        "        nonlocal y\n",
        "        y = y + 3\n",
        "\n",
        "    inner_function()\n",
        "    print(\"Modified nonlocal y:\", y)\n",
        "\n",
        "outer_function()\n"
      ],
      "metadata": {
        "id": "mKBwCh5ysAZv",
        "outputId": "0a7e8d0b-54f8-45e8-b288-6d7283f9f90e",
        "colab": {
          "base_uri": "https://localhost:8080/"
        }
      },
      "execution_count": 14,
      "outputs": [
        {
          "output_type": "stream",
          "name": "stdout",
          "text": [
            "Modified global x: 15\n",
            "Modified nonlocal y: 8\n"
          ]
        }
      ]
    },
    {
      "cell_type": "markdown",
      "source": [
        "Q.3 Compare and contrast mutable and immutable objects in Python with examples"
      ],
      "metadata": {
        "id": "WPyB6cSfuhBP"
      }
    },
    {
      "cell_type": "markdown",
      "source": [
        "1. Mutable Objects\n",
        "Mutable objects can have their values modified after creation. Common examples of mutable objects include:\n",
        "\n",
        "Lists\n",
        "Dictionaries\n",
        "Sets\n",
        "\n",
        "2. Immutable Objects\n",
        "Immutable objects cannot be modified after they are created. Any attempt to change them results in the creation of a new object. Common examples of immutable objects include:\n",
        "\n",
        "Strings\n",
        "Tuples\n",
        "Integers\n",
        "Floats\n",
        "\n",
        "Key Differences:\n",
        "\n",
        "- Mutable Objects: Can be modified after creation (e.g., List, Dictionary, Set). They maintain the same object in memory, and modifying them in-place is faster.\n",
        "\n",
        "- Immutable Objects: Cannot be changed after creation (e.g., String, Tuple, Integer, Float). A new object is created upon change, and this can be slower than in-place modifications."
      ],
      "metadata": {
        "id": "q8v-i7cZuqaG"
      }
    },
    {
      "cell_type": "code",
      "source": [
        "# Mutable (List)\n",
        "my_list = [1, 2, 3]\n",
        "my_list[1] = 20\n",
        "print(\"Mutable List:\", my_list)\n",
        "\n",
        "# Immutable (Tuple)\n",
        "my_tuple = (1, 2, 3)\n",
        "print(\"Immutable Tuple:\", my_tuple)\n",
        "# my_tuple[1] = 20  => ERROR\n"
      ],
      "metadata": {
        "id": "f2Ozn66pvukB",
        "outputId": "8b97556e-813a-4e56-9820-7c2894458479",
        "colab": {
          "base_uri": "https://localhost:8080/"
        }
      },
      "execution_count": 17,
      "outputs": [
        {
          "output_type": "stream",
          "name": "stdout",
          "text": [
            "Mutable List: [1, 20, 3]\n",
            "Immutable Tuple: (1, 2, 3)\n"
          ]
        }
      ]
    },
    {
      "cell_type": "code",
      "source": [],
      "metadata": {
        "id": "nQdPfuiivR_W"
      },
      "execution_count": null,
      "outputs": []
    }
  ],
  "metadata": {
    "colab": {
      "name": "Welcome to Colaboratory",
      "toc_visible": true,
      "provenance": []
    },
    "kernelspec": {
      "display_name": "Python 3",
      "name": "python3"
    }
  },
  "nbformat": 4,
  "nbformat_minor": 0
}